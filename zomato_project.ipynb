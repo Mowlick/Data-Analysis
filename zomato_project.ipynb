{
 "cells": [
  {
   "cell_type": "markdown",
   "id": "b30e5f07-8b8a-41fa-9dfd-8eca449b4aaf",
   "metadata": {},
   "source": [
    "# Zomato Project\n",
    "\n",
    "**Problem Statement:**  \n",
    "Analyze and optimize **Zomato restaurant data** to extract meaningful insights and/or build predictive models that can assist in enhancing customer experience, restaurant performance, or food delivery logistics.\n",
    "\n",
    "---\n",
    "\n",
    "*By-* **Mowlick Armstrong**"
   ]
  },
  {
   "cell_type": "code",
   "execution_count": null,
   "id": "e4335840-c045-4bb8-b2d5-109de40f4158",
   "metadata": {},
   "outputs": [],
   "source": [
    "import numpy as np\n",
    "import pandas as pd\n",
    "import seaborn as sns\n",
    "import matplotlib.pyplot as plt"
   ]
  },
  {
   "cell_type": "code",
   "execution_count": null,
   "id": "1ce9df39-89e2-4828-a327-25472c2bb24b",
   "metadata": {},
   "outputs": [],
   "source": [
    "zdf = pd.read_csv(\"zomato.csv\", encoding = 'ISO-8859-1')\n",
    "zdf"
   ]
  },
  {
   "cell_type": "code",
   "execution_count": null,
   "id": "75a8dd58-18f7-46c0-aef7-f2a6da2bc7af",
   "metadata": {},
   "outputs": [],
   "source": [
    "zdf.head()"
   ]
  },
  {
   "cell_type": "code",
   "execution_count": null,
   "id": "168634d2-d8da-4f52-a92c-522577e64e48",
   "metadata": {},
   "outputs": [],
   "source": [
    "zdf.isnull().sum()"
   ]
  },
  {
   "cell_type": "code",
   "execution_count": null,
   "id": "8350e175-03cb-4baf-82fd-630294767712",
   "metadata": {},
   "outputs": [],
   "source": [
    "zdf.info()"
   ]
  },
  {
   "cell_type": "code",
   "execution_count": null,
   "id": "f2575322-1fce-4d3a-8e19-1db707b89522",
   "metadata": {},
   "outputs": [],
   "source": [
    "zdf.describe()"
   ]
  },
  {
   "cell_type": "code",
   "execution_count": null,
   "id": "4def4a6b-65ac-44b5-85a8-6ec301d947a0",
   "metadata": {},
   "outputs": [],
   "source": [
    "zdf_num_col = zdf.select_dtypes(include = \"number\")\n",
    "zdf_num_col.head()"
   ]
  },
  {
   "cell_type": "code",
   "execution_count": null,
   "id": "ad2324d0-bcc7-458c-9ff4-8fae751eaa87",
   "metadata": {},
   "outputs": [],
   "source": [
    "cdf = pd.read_excel(\"Country-Code.xlsx\")\n",
    "cdf.head()"
   ]
  },
  {
   "cell_type": "markdown",
   "id": "738a3a3f-ec36-4432-a546-4d53321af6d8",
   "metadata": {},
   "source": [
    "### 1. Merge the country sheet and Zomato file to get the country code"
   ]
  },
  {
   "cell_type": "code",
   "execution_count": null,
   "id": "cd625b3e-87b0-4c01-aa09-1de2938d887f",
   "metadata": {},
   "outputs": [],
   "source": [
    "merged_df = pd.merge(zdf,cdf, on = 'Country Code', how = 'inner')\n",
    "merged_df.head()"
   ]
  },
  {
   "cell_type": "markdown",
   "id": "976cb203-192b-4a29-b539-978d7edaf59a",
   "metadata": {},
   "source": [
    "### 2. Top rated restaurants in each city in India (based on rating and votes)"
   ]
  },
  {
   "cell_type": "code",
   "execution_count": null,
   "id": "183b60c6-17f9-44e1-8203-5064c91c61e4",
   "metadata": {},
   "outputs": [],
   "source": [
    "india_df = merged_df[merged_df['Country'] == 'India']\n",
    "top_rated = india_df.sort_values(['Aggregate rating', 'Votes'], ascending=[False, False])\n",
    "top_rated_per_city = top_rated.groupby('City').first().reset_index()\n",
    "print(top_rated_per_city[['Restaurant Name', 'City', 'Aggregate rating', 'Votes']])"
   ]
  },
  {
   "cell_type": "markdown",
   "id": "0754ad2c-80c7-4fa4-a1c0-e6b46d0a2dd9",
   "metadata": {},
   "source": [
    "### 3. Relationship between rating and votes"
   ]
  },
  {
   "cell_type": "code",
   "execution_count": null,
   "id": "28061e5c-611a-49e9-ab7c-4b672485d585",
   "metadata": {},
   "outputs": [],
   "source": [
    "sns.scatterplot(data=merged_df, x='Aggregate rating', y='Votes')\n",
    "plt.title('Rating vs Votes')\n",
    "plt.show()"
   ]
  },
  {
   "cell_type": "markdown",
   "id": "4826fcb8-9523-4409-9b3f-f986a848b111",
   "metadata": {},
   "source": [
    "### 4. Number of restaurants in each country"
   ]
  },
  {
   "cell_type": "code",
   "execution_count": null,
   "id": "87226410-95fa-4bb2-8f9b-210c9eff8683",
   "metadata": {},
   "outputs": [],
   "source": [
    "restaurant_count = merged_df['Country'].value_counts()\n",
    "print(restaurant_count)"
   ]
  },
  {
   "cell_type": "markdown",
   "id": "e82aaefc-6904-4c31-aed0-9ee0180286bb",
   "metadata": {},
   "source": [
    "### 5. Top 5 restaurants with online delivery"
   ]
  },
  {
   "cell_type": "code",
   "execution_count": null,
   "id": "e0c6af1a-38eb-4e1e-97ef-efb96128663f",
   "metadata": {},
   "outputs": [],
   "source": [
    "online_delivery_df = merged_df[merged_df['Has Online delivery'] == 'Yes']\n",
    "top_online_delivery = online_delivery_df.sort_values(['Aggregate rating', 'Votes'], ascending=[False, False])\n",
    "print(top_online_delivery[['Restaurant Name', 'Aggregate rating', 'Votes']].head(5))"
   ]
  },
  {
   "cell_type": "markdown",
   "id": "ac86940c-ff2a-4495-abfa-72743a705f6b",
   "metadata": {},
   "source": [
    "### 6. Cheap but best restaurants in a city (low cost, high rating)"
   ]
  },
  {
   "cell_type": "code",
   "execution_count": null,
   "id": "9083dc4a-91aa-49d2-bde8-7a8d396134d0",
   "metadata": {},
   "outputs": [],
   "source": [
    "cheap_best = merged_df.sort_values(['Average Cost for two', 'Aggregate rating'], ascending=[True, False])\n",
    "cheap_best_per_city = cheap_best.groupby('City').first().reset_index()\n",
    "print(cheap_best_per_city[['City', 'Restaurant Name', 'Average Cost for two', 'Aggregate rating']].head())"
   ]
  },
  {
   "cell_type": "markdown",
   "id": "bf8014c5-edaa-46c5-b20a-3098d783eb51",
   "metadata": {},
   "source": [
    "### 7. Top cuisines in each region"
   ]
  },
  {
   "cell_type": "code",
   "execution_count": null,
   "id": "f9307d1f-2444-4ca6-b7cd-2e5e05f3f0f1",
   "metadata": {},
   "outputs": [],
   "source": [
    "top_cuisines = merged_df.groupby(['Country', 'City'])['Cuisines'].agg(\n",
    "    lambda x: x.value_counts().index[0] if not x.value_counts().empty else None\n",
    ")\n",
    "print(top_cuisines.head(15))"
   ]
  },
  {
   "cell_type": "code",
   "execution_count": null,
   "id": "038cfe0c-40f1-4664-af6a-ecd2bb5abd1d",
   "metadata": {},
   "outputs": [],
   "source": [
    "## In indian region\n",
    "# Filter the Series where the first level of the MultiIndex (Country) is 'India'\n",
    "indian_cities_top_cuisines = top_cuisines.loc['India']\n",
    "print(indian_cities_top_cuisines.head())"
   ]
  },
  {
   "cell_type": "markdown",
   "id": "4a138a7a-d2a7-4e60-b383-2d4659a02f50",
   "metadata": {},
   "source": [
    "### 8. Aggregate rating of all restaurants in each city in a country"
   ]
  },
  {
   "cell_type": "code",
   "execution_count": null,
   "id": "8cc24c2b-02b0-4e64-aa81-4847932f061d",
   "metadata": {},
   "outputs": [],
   "source": [
    "city_rating = merged_df.groupby(['Country', 'City'])['Aggregate rating'].mean().reset_index()\n",
    "print(city_rating.head())"
   ]
  },
  {
   "cell_type": "markdown",
   "id": "123d88a3-7375-407c-bc54-d49d13f650da",
   "metadata": {},
   "source": [
    "### 9. Does rating influence the cost of a restaurant? (Boxplot)"
   ]
  },
  {
   "cell_type": "code",
   "execution_count": null,
   "id": "499d106b-ab86-4fe2-a1d1-f2906fda21dc",
   "metadata": {},
   "outputs": [],
   "source": [
    "plt.figure(figsize=(7, 4))\n",
    "sns.boxplot(x='Aggregate rating', y='Average Cost for two', data=merged_df)\n",
    "plt.title('Cost vs Rating')\n",
    "plt.xticks(rotation=90)\n",
    "plt.show()"
   ]
  },
  {
   "cell_type": "markdown",
   "id": "69b6b15a-a7f7-48ce-810e-cf12e473675d",
   "metadata": {},
   "source": [
    "### 10. Top percentage cover of restaurants in a city (Pie graph)"
   ]
  },
  {
   "cell_type": "code",
   "execution_count": null,
   "id": "683fc2d0-a01c-4daf-9cb5-0727d9e44f10",
   "metadata": {},
   "outputs": [],
   "source": [
    "city_counts = merged_df['City'].value_counts().head(5)\n",
    "plt.pie(city_counts, labels=city_counts.index, autopct='%1.1f%%', startangle=140)\n",
    "plt.title('Top 5 Cities by Restaurant Share')\n",
    "plt.axis('equal')\n",
    "plt.show()"
   ]
  },
  {
   "cell_type": "markdown",
   "id": "4ded02fc-40fe-48c0-9584-ea8e155fccb7",
   "metadata": {},
   "source": [
    "### 11. Top cuisines in Indian restaurants (Pie graph)"
   ]
  },
  {
   "cell_type": "code",
   "execution_count": null,
   "id": "209319ed-37cb-4550-97ea-e97097e44de5",
   "metadata": {},
   "outputs": [],
   "source": [
    "indian_df = merged_df[merged_df['Country'] == 'India']\n",
    "cuisines = indian_df['Cuisines'].dropna().str.split(',').explode()\n",
    "top_cuisines = cuisines.value_counts().head(5)\n",
    "\n",
    "plt.pie(top_cuisines, labels=top_cuisines.index, autopct='%1.1f%%', startangle=140)\n",
    "plt.title('Top 5 Cuisines in Indian Restaurants')\n",
    "plt.axis('equal')\n",
    "plt.show()"
   ]
  }
 ],
 "metadata": {
  "kernelspec": {
   "display_name": "Python 3 (ipykernel)",
   "language": "python",
   "name": "python3"
  },
  "language_info": {
   "codemirror_mode": {
    "name": "ipython",
    "version": 3
   },
   "file_extension": ".py",
   "mimetype": "text/x-python",
   "name": "python",
   "nbconvert_exporter": "python",
   "pygments_lexer": "ipython3",
   "version": "3.12.7"
  }
 },
 "nbformat": 4,
 "nbformat_minor": 5
}
