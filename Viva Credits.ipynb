{
 "cells": [
  {
   "cell_type": "markdown",
   "id": "72ddbaf4-367c-4b7e-b11b-c6bc30249845",
   "metadata": {},
   "source": [
    "# Viva Credits\n",
    "\n",
    "**Problem Statement:**  \n",
    "Build and optimize a **Decision Tree Classifier** to predict binary class labels using **cross-validation** and **hyperparameter tuning**.\n",
    "\n",
    "---\n",
    "\n",
    "*By:-*  **Mowlick Armstrong**"
   ]
  },
  {
   "cell_type": "markdown",
   "id": "7fa89c93-5557-441e-8c16-052747df5ec3",
   "metadata": {},
   "source": [
    "## Hyperparameter Tuning"
   ]
  },
  {
   "cell_type": "markdown",
   "id": "f1a8f112-b391-4b44-a242-2edecd2433d7",
   "metadata": {},
   "source": [
    "### Importing Libraries"
   ]
  },
  {
   "cell_type": "code",
   "execution_count": null,
   "id": "827a8f96-cfb6-421c-8584-c270b555f7ed",
   "metadata": {},
   "outputs": [],
   "source": [
    "from sklearn.datasets import make_classification\n",
    "import pandas as pd\n",
    "from sklearn.tree import DecisionTreeClassifier\n",
    "from sklearn.model_selection import train_test_split\n",
    "from sklearn.metrics import accuracy_score\n",
    "from sklearn.model_selection import GridSearchCV\n",
    "from sklearn.model_selection import cross_val_score\n",
    "import numpy as np"
   ]
  },
  {
   "cell_type": "code",
   "execution_count": null,
   "id": "dbe49495-fbea-43d5-85a2-3a8ab5c80e5c",
   "metadata": {},
   "outputs": [],
   "source": [
    "X, y = make_classification(n_samples= 1000,\n",
    "                           n_features = 5,\n",
    "                           n_classes = 2)"
   ]
  },
  {
   "cell_type": "code",
   "execution_count": null,
   "id": "a49ae5ea-5e62-45a6-abee-8785264f86d5",
   "metadata": {},
   "outputs": [],
   "source": [
    "type(X)"
   ]
  },
  {
   "cell_type": "code",
   "execution_count": null,
   "id": "50ac6f52-a558-4b27-9295-0b0fb206d7f5",
   "metadata": {},
   "outputs": [],
   "source": [
    "type(y)"
   ]
  },
  {
   "cell_type": "code",
   "execution_count": null,
   "id": "8c187d32-1b78-4d2b-a8b8-a04b093f1d8c",
   "metadata": {},
   "outputs": [],
   "source": [
    "print(X.shape)"
   ]
  },
  {
   "cell_type": "code",
   "execution_count": null,
   "id": "7ae642e4-0b7d-4b3e-ab21-cba2b6723d93",
   "metadata": {},
   "outputs": [],
   "source": [
    "print(y.shape)"
   ]
  },
  {
   "cell_type": "code",
   "execution_count": null,
   "id": "b397dadc-137f-46f7-81eb-fb3865aa36ca",
   "metadata": {},
   "outputs": [],
   "source": [
    "import pandas as pd\n",
    "df1 = pd.DataFrame(data = X, columns =['col1','col2','col3','col4','col5'])\n",
    "df2 = pd.DataFrame(data = y, columns = ['Target Variable'])"
   ]
  },
  {
   "cell_type": "code",
   "execution_count": null,
   "id": "afb67f00-ca31-4d2c-b18a-65c8e2dbe210",
   "metadata": {},
   "outputs": [],
   "source": [
    "df = pd.concat([df1, df2], axis = 1)"
   ]
  },
  {
   "cell_type": "code",
   "execution_count": null,
   "id": "147c4a2f-8df1-4e27-9a18-9c6748ebfe94",
   "metadata": {},
   "outputs": [],
   "source": [
    "df.head()"
   ]
  },
  {
   "cell_type": "code",
   "execution_count": null,
   "id": "b61f0bf8-f64f-4928-bc21-6fdd98de50ac",
   "metadata": {},
   "outputs": [],
   "source": [
    "X = df.drop('Target Variable', axis = 1)\n",
    "y = df[['Target Variable']]"
   ]
  },
  {
   "cell_type": "code",
   "execution_count": null,
   "id": "e88b53d8-019a-49a4-ac7d-a25d83a4cb00",
   "metadata": {},
   "outputs": [],
   "source": [
    "X_train, X_test, y_train, y_test = train_test_split(X, y, test_size = 0.2, random_state = 42)"
   ]
  },
  {
   "cell_type": "markdown",
   "id": "16f3a5c6-3e18-4911-a17a-316bbcf3e2cd",
   "metadata": {},
   "source": [
    "## Applying Decision Tree"
   ]
  },
  {
   "cell_type": "code",
   "execution_count": null,
   "id": "979b79ba-78cd-46eb-b563-f44f2bfe2f08",
   "metadata": {},
   "outputs": [],
   "source": [
    "dt = DecisionTreeClassifier()\n",
    "dt.fit(X_train, y_train)\n",
    "y_pred_dt = dt.predict(X_test)\n",
    "print(\"Accuracy score of the Decision Tree is\", accuracy_score(y_test, y_pred_dt)*100)"
   ]
  },
  {
   "cell_type": "markdown",
   "id": "2e8870dc-b20c-45f2-acc5-3caf7bec3e58",
   "metadata": {},
   "source": [
    "## Applying  Hyperparameter Tuning"
   ]
  },
  {
   "cell_type": "code",
   "execution_count": null,
   "id": "1f81ba45-7e0a-43fd-b911-bf9845e05f4d",
   "metadata": {},
   "outputs": [],
   "source": [
    "param_grid = {\n",
    "    'max_depth': [3,5,10],\n",
    "    'min_samples_split': [2,5,10],\n",
    "    'criterion': ['gini', 'entropy']\n",
    "}"
   ]
  },
  {
   "cell_type": "code",
   "execution_count": null,
   "id": "a3fdb873-67e2-46c1-a232-aae3d027bacf",
   "metadata": {},
   "outputs": [],
   "source": [
    "grid_search = GridSearchCV(dt,\n",
    "             param_grid = param_grid,\n",
    "             scoring='accuracy',\n",
    "             cv=5)\n",
    "grid_search.fit(X_train, y_train)"
   ]
  },
  {
   "cell_type": "code",
   "execution_count": null,
   "id": "f9ef105f-dac1-4e23-a2f5-c0c8a08ffe76",
   "metadata": {},
   "outputs": [],
   "source": [
    "grid_search.best_estimator_"
   ]
  },
  {
   "cell_type": "code",
   "execution_count": null,
   "id": "b89c2355-d146-4acf-8522-fde82c8ff616",
   "metadata": {},
   "outputs": [],
   "source": [
    "grid_search.best_score_"
   ]
  },
  {
   "cell_type": "code",
   "execution_count": null,
   "id": "5b8853fa-f845-474b-a650-0fc5ffddca5c",
   "metadata": {},
   "outputs": [],
   "source": [
    "grid_search.best_params_"
   ]
  },
  {
   "cell_type": "code",
   "execution_count": null,
   "id": "96da1a11-eed9-422a-823f-6511523956d9",
   "metadata": {},
   "outputs": [],
   "source": [
    "print(\"Best Parameters:\", grid_search.best_params_)\n",
    "best_model = grid_search.best_estimator_"
   ]
  },
  {
   "cell_type": "code",
   "execution_count": null,
   "id": "79d46588-a1e0-47ce-a410-6df50a156aab",
   "metadata": {},
   "outputs": [],
   "source": [
    "y_pred = best_model.predict(X_test)"
   ]
  },
  {
   "cell_type": "code",
   "execution_count": null,
   "id": "a211d955-3f6a-44c0-8dcd-85359e80ed85",
   "metadata": {},
   "outputs": [],
   "source": [
    "X, y = make_classification(n_samples=1000, n_features=10, n_classes=2, random_state=42)\n",
    "\n",
    "# 2. Initialize the model\n",
    "clf = DecisionTreeClassifier(random_state=42)\n",
    "\n",
    "# 3. Perform 5-fold cross-validation\n",
    "scores = cross_val_score(clf, X, y, cv=5, scoring='accuracy')\n",
    "\n",
    "# 4. Output results\n",
    "print(\"Cross-validation scores:\", scores)\n",
    "print(\"Mean accuracy:\", np.mean(scores))\n",
    "print(\"Standard deviation:\", np.std(scores))"
   ]
  }
 ],
 "metadata": {
  "kernelspec": {
   "display_name": "Python 3 (ipykernel)",
   "language": "python",
   "name": "python3"
  },
  "language_info": {
   "codemirror_mode": {
    "name": "ipython",
    "version": 3
   },
   "file_extension": ".py",
   "mimetype": "text/x-python",
   "name": "python",
   "nbconvert_exporter": "python",
   "pygments_lexer": "ipython3",
   "version": "3.12.7"
  }
 },
 "nbformat": 4,
 "nbformat_minor": 5
}
