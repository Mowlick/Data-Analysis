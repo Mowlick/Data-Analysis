{
 "cells": [
  {
   "cell_type": "markdown",
   "id": "fbdb213c-2ea1-4ca8-9bae-2584cab5a7fd",
   "metadata": {},
   "source": [
    "# Labour Earning Prediction\n",
    "\n",
    "**Problem Statement:**  \n",
    "Predict **labor earnings for the year 1978** using **demographic and socio-economic features** from the years **1974 and 1975**.\n",
    "\n",
    "---\n",
    "\n",
    "**By:** *Mowlick Armstrong*"
   ]
  },
  {
   "cell_type": "markdown",
   "id": "fa7358dc-7d6c-4b95-9c4a-6ac048db1bb6",
   "metadata": {},
   "source": [
    "####  Step 1: Import Required Libraries"
   ]
  },
  {
   "cell_type": "code",
   "execution_count": null,
   "id": "a4927ea7-cb2e-4d82-86f1-441b2ddcb323",
   "metadata": {},
   "outputs": [],
   "source": [
    "# Data manipulation\n",
    "import pandas as pd\n",
    "import numpy as np\n",
    "\n",
    "# Visualization\n",
    "import matplotlib.pyplot as plt\n",
    "import seaborn as sns\n",
    "\n",
    "# Machine Learning tools\n",
    "from sklearn.model_selection import train_test_split\n",
    "from sklearn.linear_model import LinearRegression\n",
    "from sklearn.metrics import mean_squared_error, r2_score\n",
    "from sklearn.preprocessing import StandardScaler"
   ]
  },
  {
   "cell_type": "markdown",
   "id": "af2ce386-c98e-4bb6-9fbb-9e8c0fb50b78",
   "metadata": {},
   "source": [
    "#### Step 2: Load and Explore the Dataset."
   ]
  },
  {
   "cell_type": "code",
   "execution_count": null,
   "id": "36428877-86c6-468a-a82f-340d6f68b291",
   "metadata": {},
   "outputs": [],
   "source": [
    "# Load the dataset\n",
    "df = pd.read_csv(\"LabourTrainingEvaluationData.csv\")\n",
    "\n",
    "# Show the first 5 rows\n",
    "print(df.head())\n",
    "\n",
    "# Display column information and check for null values\n",
    "print(\"\\nDataset Info:\")\n",
    "print(df.info())\n",
    "\n",
    "# Check for missing values\n",
    "print(\"\\nMissing Values:\")\n",
    "print(df.isnull().sum())"
   ]
  },
  {
   "cell_type": "markdown",
   "id": "53b6b1f5-53f1-4958-88d5-da9b95c15790",
   "metadata": {},
   "source": [
    "#### Step 3: Data Cleaning & Preprocessing."
   ]
  },
  {
   "cell_type": "code",
   "execution_count": null,
   "id": "5a7808c7-c1f2-41dc-b333-eaa893b5e7cf",
   "metadata": {},
   "outputs": [],
   "source": [
    "# Drop rows with missing values\n",
    "df = df.dropna()\n",
    "\n",
    "# Binary Encoding: race (0 = not black, 1 = black)\n",
    "df['Race'] = df['Race'].map({0: 0, 1: 1})  # already binary, keeping as-is\n",
    "\n",
    "# Binary Encoding: hispanic\n",
    "df['Hisp'] = df['Hisp'].map({0: 0, 1: 1})  # assuming already binary\n",
    "\n",
    "# Binary Encoding: married\n",
    "df['MaritalStatus'] = df['MaritalStatus'].map({0: 0, 1: 1})  # assuming already binary\n",
    "\n",
    "# View dataset after cleaning\n",
    "print(df.head())"
   ]
  },
  {
   "cell_type": "markdown",
   "id": "901e499b-f931-43aa-9477-0b7f2f00a428",
   "metadata": {},
   "source": [
    "#### Step 4: Define Features and Target Variable."
   ]
  },
  {
   "cell_type": "code",
   "execution_count": null,
   "id": "e290589d-92d6-46d2-bec9-05cafb5d3c42",
   "metadata": {},
   "outputs": [],
   "source": [
    "# Label encode the 'educ' column\n",
    "df['Eduacation'] = df['Eduacation'].astype('category').cat.codes\n",
    "\n",
    "# Check the unique codes mapped to education levels\n",
    "print(\"Education Levels Encoded:\")\n",
    "print(df['Eduacation'].unique())\n"
   ]
  },
  {
   "cell_type": "code",
   "execution_count": null,
   "id": "5eb92dda-936c-416c-b0cd-60537873621b",
   "metadata": {},
   "outputs": [],
   "source": [
    "# Define the feature columns and target column\n",
    "feature_cols = ['Age', 'Eduacation', 'Race', 'Hisp', 'MaritalStatus', 'Earnings_1974', 'Earnings_1975']\n",
    "target_col = 'Earnings_1978'\n",
    "\n",
    "# Create features (X) and target (y)\n",
    "X = df[feature_cols]\n",
    "y = df[target_col]\n",
    "\n",
    "# Display the shapes\n",
    "print(\"Feature shape:\", X.shape)\n",
    "print(\"Target shape:\", y.shape)\n"
   ]
  },
  {
   "cell_type": "markdown",
   "id": "9fd999b7-a40a-4fd2-b2d8-e5f08201988c",
   "metadata": {},
   "source": [
    "#### Step 5: Feature Scaling"
   ]
  },
  {
   "cell_type": "code",
   "execution_count": null,
   "id": "e46ed8e6-f42a-49c5-9fa7-6cea5bf29a50",
   "metadata": {},
   "outputs": [],
   "source": [
    "import pandas as pd\n",
    "from sklearn.preprocessing import StandardScaler\n",
    "\n",
    "# Step 1: Reload the original dataset\n",
    "df = pd.read_csv(\"LabourTrainingEvaluationData.csv\")\n",
    "\n",
    "# Step 2: Drop columns that are entirely null (Race, Hisp, MaritalStatus)\n",
    "df = df.drop(columns=['Race', 'Hisp', 'MaritalStatus'], errors='ignore')  # safely ignore if already dropped\n",
    "\n",
    "# Step 3: Encode 'Eduacation'\n",
    "df['Eduacation'] = df['Eduacation'].astype('category').cat.codes\n",
    "\n",
    "# Step 4: Drop rows that have missing values in required columns\n",
    "required_cols = ['Age', 'Eduacation', 'Earnings_1974', 'Earnings_1975', 'Earnings_1978']\n",
    "df = df.dropna(subset=required_cols)\n",
    "\n",
    "# Step 5: Define features and target\n",
    "feature_cols = ['Age', 'Eduacation', 'Earnings_1974', 'Earnings_1975']\n",
    "target_col = 'Earnings_1978'\n",
    "\n",
    "X = df[feature_cols]\n",
    "y = df[target_col]\n",
    "\n",
    "# Step 6: Scale features\n",
    "scaler = StandardScaler()\n",
    "X_scaled = scaler.fit_transform(X)\n",
    "\n",
    "# Check\n",
    "print(\" Reload successful. Final shape:\", X.shape)\n"
   ]
  },
  {
   "cell_type": "markdown",
   "id": "0d482ad0-f5a3-429c-9fe8-7a8ea6e5c312",
   "metadata": {},
   "source": [
    "#### Step 6: Train-Test Split "
   ]
  },
  {
   "cell_type": "code",
   "execution_count": null,
   "id": "98e1f271-503a-4d07-8299-c2c8fe17f1ee",
   "metadata": {},
   "outputs": [],
   "source": [
    "from sklearn.model_selection import train_test_split\n",
    "\n",
    "# Split the data\n",
    "X_train, X_test, y_train, y_test = train_test_split(\n",
    "    X_scaled, y, test_size=0.2, random_state=42\n",
    ")\n",
    "\n",
    "# Check shapes\n",
    "print(\"Training set size:\", X_train.shape)\n",
    "print(\"Test set size:\", X_test.shape)\n"
   ]
  },
  {
   "cell_type": "markdown",
   "id": "109d104f-090a-4ef8-a128-871b22a955b0",
   "metadata": {},
   "source": [
    "#### Step 7: Train the Linear Regression Model"
   ]
  },
  {
   "cell_type": "code",
   "execution_count": null,
   "id": "96370d29-0bfa-451a-82b3-b2afec176571",
   "metadata": {},
   "outputs": [],
   "source": [
    "from sklearn.linear_model import LinearRegression\n",
    "\n",
    "# Initialize and train the model\n",
    "model = LinearRegression()\n",
    "model.fit(X_train, y_train)\n",
    "\n",
    "# Check the learned coefficients\n",
    "print(\"Model Coefficients:\", model.coef_)\n",
    "print(\"Model Intercept:\", model.intercept_)"
   ]
  },
  {
   "cell_type": "markdown",
   "id": "f919c593-9698-4eaf-a57a-81de47f789f8",
   "metadata": {},
   "source": [
    "#### Step 8: Make Predictions and Evaluate the Model"
   ]
  },
  {
   "cell_type": "code",
   "execution_count": null,
   "id": "e7b01d8a-d3df-49d9-a0c3-c670769e9603",
   "metadata": {},
   "outputs": [],
   "source": [
    "from sklearn.metrics import mean_squared_error, r2_score\n",
    "import numpy as np\n",
    "\n",
    "# Predict on the test set\n",
    "y_pred = model.predict(X_test)\n",
    "\n",
    "# Calculate RMSE\n",
    "rmse = np.sqrt(mean_squared_error(y_test, y_pred))\n",
    "\n",
    "# Calculate R² Score\n",
    "r2 = r2_score(y_test, y_pred)\n",
    "\n",
    "# Display results\n",
    "print(\"Model Evaluation:\")\n",
    "print(\"Root Mean Squared Error (RMSE):\", rmse)\n",
    "print(\"R² Score:\", r2)"
   ]
  }
 ],
 "metadata": {
  "kernelspec": {
   "display_name": "Python 3 (ipykernel)",
   "language": "python",
   "name": "python3"
  },
  "language_info": {
   "codemirror_mode": {
    "name": "ipython",
    "version": 3
   },
   "file_extension": ".py",
   "mimetype": "text/x-python",
   "name": "python",
   "nbconvert_exporter": "python",
   "pygments_lexer": "ipython3",
   "version": "3.12.7"
  }
 },
 "nbformat": 4,
 "nbformat_minor": 5
}
